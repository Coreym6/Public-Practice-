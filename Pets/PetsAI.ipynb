{
 "cells": [
  {
   "cell_type": "code",
   "execution_count": null,
   "metadata": {},
   "outputs": [],
   "source": [
    "#https://machinelearningmastery.com/how-to-develop-a-convolutional-neural-network-to-classify-photos-of-dogs-and-cats/\n",
    "# this is the dataset to use the model on : also a tutorial on how to use the model \n",
    "import matplotlib.pyplot as plt\n",
    "from matplotlib.image import imread\n",
    "from os import listdir\n",
    "from numpy import asarray\n",
    "from numpy import save\n",
    "from keras.preprocessing.image import load_img\n",
    "from keras.preprocessing.image import img_to_array # need to add this to an environment and select it as the interpreter\n",
    "import numpy as np\n",
    "'''from os import listdir\n",
    "from numpy import asarray\n",
    "from numpy import save\n",
    "from keras.preprocessing.image import load_img\n",
    "from keras.preprocessing.image import img_to_array'''\n",
    "# define location of dataset\n",
    "folder = 'train/'\n",
    "# plot first few images\n",
    "for i in range(9):\n",
    " # define subplot\n",
    " pyplot.subplot(330 + 1 + i)\n",
    " # define filename\n",
    " filename = folder + 'cat.' + str(i) + '.jpg'\n",
    " # load image pixels\n",
    " image = imread(filename)\n",
    " # plot raw pixel data\n",
    " pyplot.imshow(image)\n",
    "# show the figure\n",
    "pyplot.show()\n"
   ]
  }
 ],
 "metadata": {
  "language_info": {
   "name": "python"
  }
 },
 "nbformat": 4,
 "nbformat_minor": 2
}
