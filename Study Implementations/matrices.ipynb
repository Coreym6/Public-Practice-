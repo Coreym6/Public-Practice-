{
 "cells": [
  {
   "cell_type": "code",
   "execution_count": 4,
   "metadata": {},
   "outputs": [
    {
     "name": "stdout",
     "output_type": "stream",
     "text": [
      "[[ 1  2  3]\n",
      " [ 4  6  7]\n",
      " [ 8  9 10]]\n",
      "20\n",
      "just print out the first array [1 2 3]\n"
     ]
    }
   ],
   "source": [
    "# the beginning of matricies workings\n",
    "import random \n",
    "import numpy as np\n",
    "import matplotlib.pyplot as plt\n",
    "import time\n",
    "import geopandas as gpd\n",
    "import pandas as pd\n",
    "import os\n",
    "\n",
    "# creation of a matrix that will be used to make random numbers \n",
    "# matrix = np.random.rand(3,3)\n",
    "# print(matrix)\n",
    "\n",
    "test = np.array([[1,2,3],[4,6,7],[8,9,10]])\n",
    "print(test)\n",
    "print(test[0,2] + test[1,2]+ test[2,2])\n",
    "print(\"just print out the first array\", test[0])"
   ]
  }
 ],
 "metadata": {
  "kernelspec": {
   "display_name": "Python 3",
   "language": "python",
   "name": "python3"
  },
  "language_info": {
   "codemirror_mode": {
    "name": "ipython",
    "version": 3
   },
   "file_extension": ".py",
   "mimetype": "text/x-python",
   "name": "python",
   "nbconvert_exporter": "python",
   "pygments_lexer": "ipython3",
   "version": "3.11.7"
  },
  "orig_nbformat": 4
 },
 "nbformat": 4,
 "nbformat_minor": 2
}
